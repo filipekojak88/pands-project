{
 "cells": [
  {
   "cell_type": "markdown",
   "metadata": {},
   "source": [
    "# Project: Iris Data Set Analysis\n",
    "\n",
    "****"
   ]
  },
  {
   "cell_type": "markdown",
   "metadata": {},
   "source": [
    "## Project Requirements:\n",
    "\n",
    "1. Research the data set online and write a summary about it in your README.\n",
    "2. Download the data set and add it to your repository.\n",
    "3. Write a program called analysis.py that:\n",
    "    1. Outputs a summary of each variable to a single text file,\n",
    "    2. Saves a histogram of each variable to png files, and\n",
    "    3. Outputs a scatter plot of each pair of variables.\n",
    "    4. Performs any other analysis you think is appropriate."
   ]
  }
 ],
 "metadata": {
  "language_info": {
   "name": "python"
  }
 },
 "nbformat": 4,
 "nbformat_minor": 2
}
