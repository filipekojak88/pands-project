{
 "cells": [
  {
   "cell_type": "markdown",
   "metadata": {},
   "source": [
    "# Project: Iris Data Set Analysis\n",
    "\n",
    "****"
   ]
  },
  {
   "cell_type": "markdown",
   "metadata": {},
   "source": [
    "## Project Requirements:\n",
    "\n",
    "1. Research the data set online and write a summary about it in your README.\n",
    "2. Download the data set and add it to your repository.\n",
    "3. Write a program called analysis.py that:\n",
    "    1. Outputs a summary of each variable to a single text file,\n",
    "    2. Saves a histogram of each variable to png files, and\n",
    "    3. Outputs a scatter plot of each pair of variables.\n",
    "    4. Performs any other analysis you think is appropriate."
   ]
  },
  {
   "cell_type": "markdown",
   "metadata": {},
   "source": [
    "## Project Plan:\n",
    "\n",
    "### Aiming the requirements\n",
    "\n",
    "1. Some websites will be used as a base of comparison to raise info related to the Iris dataset. These were then put into words by the author in the README file.\n",
    "\n",
    "2. The Iris dataset provided by Andrew in Moodle shows a file version called .data which will be copied into the pands-project repository.\n",
    "\n",
    "3. To write the program, I will first start by having each program created individually and as try them out as I go. My aim here is also to use the learned skills to try the codes as learned in the video 9.2 of week 9. "
   ]
  },
  {
   "cell_type": "markdown",
   "metadata": {},
   "source": [
    "### Plan for 'README file'\n",
    "\n",
    "GitHub documentation on README file was consulted and from it the suggested headings were implemented into the README file so as to ensure that all the requirements are attended. The main part of the README file is the section About This Project which presents the Author's understanding and appropriate research about the IRIS dataset."
   ]
  },
  {
   "cell_type": "markdown",
   "metadata": {},
   "source": [
    "### Plan Task 'Summary': \n",
    "\n",
    "Review the videos from Topic 07 - Files, Topic 09 - Errors and Topic 10 - Pandas.\n",
    "\n",
    "\n",
    "This needs to be updated after reviewing of the videos and searching for new material:\n",
    "Input:\n",
    "- Use the function open(XX, 'wt') from Pandas to create the text files for each variable with their name on the top - refer to lab07.07-loadStudents.py.\n",
    "- Deal with errors (dropna, different file extension type, etc) - reference es.py file. Might be able to do this using pandas only.\n",
    "- Load the dataset - module pandas, function read_csv()\n",
    "- Identify the type of variables in the dataset - function dtypes ('is this a function?').\n",
    "- Check missing values for each variable - function isnull().sum() - see penguins.ipynb.\n",
    "    \n",
    "\n",
    "Output: \n",
    "- A text file should be created for each variable type.\n",
    "- Error messages ...\n",
    "- It should count the number of NaN for each variable and if any NaN is found then a message is displayed with the number of null data and a proper rationale.\n",
    "- It should show a random \n",
    "- If the variable is categorical then it should show the different value types and their counts.\n",
    "- If the variable is continuous then it should display the descriptive summary of the data."
   ]
  },
  {
   "cell_type": "markdown",
   "metadata": {},
   "source": [
    "Open Files: https://www.dataquest.io/blog/read-file-python/\n",
    "Check if file exists with OS: https://docs.python.org/3/library/os.path.html\n",
    "\n"
   ]
  },
  {
   "cell_type": "markdown",
   "metadata": {},
   "source": [
    "****\n",
    "\n",
    "## End"
   ]
  }
 ],
 "metadata": {
  "kernelspec": {
   "display_name": "base",
   "language": "python",
   "name": "python3"
  },
  "language_info": {
   "codemirror_mode": {
    "name": "ipython",
    "version": 3
   },
   "file_extension": ".py",
   "mimetype": "text/x-python",
   "name": "python",
   "nbconvert_exporter": "python",
   "pygments_lexer": "ipython3",
   "version": "3.11.5"
  }
 },
 "nbformat": 4,
 "nbformat_minor": 2
}
